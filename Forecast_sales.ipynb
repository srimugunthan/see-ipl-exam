{
 "cells": [
  {
   "cell_type": "code",
   "execution_count": 27,
   "id": "5915ab9a",
   "metadata": {},
   "outputs": [],
   "source": [
    "import pandas as pd\n",
    "import seaborn as sns"
   ]
  },
  {
   "cell_type": "code",
   "execution_count": 28,
   "id": "39b34b63",
   "metadata": {},
   "outputs": [],
   "source": [
    "df = pd.read_excel(\"./EA - Data - Group 9.xlsx\", sheet_name='Sales Data')"
   ]
  },
  {
   "cell_type": "code",
   "execution_count": 29,
   "id": "a5c00988",
   "metadata": {},
   "outputs": [
    {
     "data": {
      "text/html": [
       "<div>\n",
       "<style scoped>\n",
       "    .dataframe tbody tr th:only-of-type {\n",
       "        vertical-align: middle;\n",
       "    }\n",
       "\n",
       "    .dataframe tbody tr th {\n",
       "        vertical-align: top;\n",
       "    }\n",
       "\n",
       "    .dataframe thead th {\n",
       "        text-align: right;\n",
       "    }\n",
       "</style>\n",
       "<table border=\"1\" class=\"dataframe\">\n",
       "  <thead>\n",
       "    <tr style=\"text-align: right;\">\n",
       "      <th></th>\n",
       "      <th>Year</th>\n",
       "      <th>Quarter</th>\n",
       "      <th>Sales</th>\n",
       "      <th>SalesPromo</th>\n",
       "      <th>AdSpend</th>\n",
       "      <th>RelPrice</th>\n",
       "    </tr>\n",
       "  </thead>\n",
       "  <tbody>\n",
       "    <tr>\n",
       "      <th>0</th>\n",
       "      <td>2014</td>\n",
       "      <td>1</td>\n",
       "      <td>92</td>\n",
       "      <td>0.602118</td>\n",
       "      <td>0.0</td>\n",
       "      <td>1.1</td>\n",
       "    </tr>\n",
       "    <tr>\n",
       "      <th>1</th>\n",
       "      <td>2014</td>\n",
       "      <td>2</td>\n",
       "      <td>99</td>\n",
       "      <td>0.208932</td>\n",
       "      <td>1.8</td>\n",
       "      <td>0.9</td>\n",
       "    </tr>\n",
       "    <tr>\n",
       "      <th>2</th>\n",
       "      <td>2014</td>\n",
       "      <td>3</td>\n",
       "      <td>115</td>\n",
       "      <td>0.060245</td>\n",
       "      <td>2.8</td>\n",
       "      <td>0.1</td>\n",
       "    </tr>\n",
       "    <tr>\n",
       "      <th>3</th>\n",
       "      <td>2014</td>\n",
       "      <td>4</td>\n",
       "      <td>85</td>\n",
       "      <td>0.002090</td>\n",
       "      <td>1.3</td>\n",
       "      <td>0.5</td>\n",
       "    </tr>\n",
       "    <tr>\n",
       "      <th>4</th>\n",
       "      <td>2015</td>\n",
       "      <td>1</td>\n",
       "      <td>88</td>\n",
       "      <td>0.045102</td>\n",
       "      <td>1.4</td>\n",
       "      <td>0.6</td>\n",
       "    </tr>\n",
       "  </tbody>\n",
       "</table>\n",
       "</div>"
      ],
      "text/plain": [
       "   Year  Quarter  Sales  SalesPromo  AdSpend  RelPrice\n",
       "0  2014        1     92    0.602118      0.0       1.1\n",
       "1  2014        2     99    0.208932      1.8       0.9\n",
       "2  2014        3    115    0.060245      2.8       0.1\n",
       "3  2014        4     85    0.002090      1.3       0.5\n",
       "4  2015        1     88    0.045102      1.4       0.6"
      ]
     },
     "execution_count": 29,
     "metadata": {},
     "output_type": "execute_result"
    }
   ],
   "source": [
    "df.head()"
   ]
  },
  {
   "cell_type": "code",
   "execution_count": 30,
   "id": "21cd97dd",
   "metadata": {},
   "outputs": [
    {
     "data": {
      "text/plain": [
       "(36, 6)"
      ]
     },
     "execution_count": 30,
     "metadata": {},
     "output_type": "execute_result"
    }
   ],
   "source": [
    "df.shape"
   ]
  },
  {
   "cell_type": "code",
   "execution_count": 31,
   "id": "ce09d905",
   "metadata": {},
   "outputs": [
    {
     "data": {
      "text/html": [
       "<div>\n",
       "<style scoped>\n",
       "    .dataframe tbody tr th:only-of-type {\n",
       "        vertical-align: middle;\n",
       "    }\n",
       "\n",
       "    .dataframe tbody tr th {\n",
       "        vertical-align: top;\n",
       "    }\n",
       "\n",
       "    .dataframe thead th {\n",
       "        text-align: right;\n",
       "    }\n",
       "</style>\n",
       "<table border=\"1\" class=\"dataframe\">\n",
       "  <thead>\n",
       "    <tr style=\"text-align: right;\">\n",
       "      <th></th>\n",
       "      <th>Year</th>\n",
       "      <th>Quarter</th>\n",
       "      <th>Sales</th>\n",
       "      <th>SalesPromo</th>\n",
       "      <th>AdSpend</th>\n",
       "      <th>RelPrice</th>\n",
       "    </tr>\n",
       "  </thead>\n",
       "  <tbody>\n",
       "    <tr>\n",
       "      <th>count</th>\n",
       "      <td>36.000000</td>\n",
       "      <td>36.000000</td>\n",
       "      <td>36.000000</td>\n",
       "      <td>36.000000</td>\n",
       "      <td>36.000000</td>\n",
       "      <td>36.000000</td>\n",
       "    </tr>\n",
       "    <tr>\n",
       "      <th>mean</th>\n",
       "      <td>2018.000000</td>\n",
       "      <td>2.500000</td>\n",
       "      <td>129.472222</td>\n",
       "      <td>0.399153</td>\n",
       "      <td>1.758333</td>\n",
       "      <td>0.866667</td>\n",
       "    </tr>\n",
       "    <tr>\n",
       "      <th>std</th>\n",
       "      <td>2.618615</td>\n",
       "      <td>1.133893</td>\n",
       "      <td>166.745741</td>\n",
       "      <td>0.783047</td>\n",
       "      <td>0.651756</td>\n",
       "      <td>0.322490</td>\n",
       "    </tr>\n",
       "    <tr>\n",
       "      <th>min</th>\n",
       "      <td>2014.000000</td>\n",
       "      <td>1.000000</td>\n",
       "      <td>84.000000</td>\n",
       "      <td>0.002090</td>\n",
       "      <td>0.000000</td>\n",
       "      <td>0.100000</td>\n",
       "    </tr>\n",
       "    <tr>\n",
       "      <th>25%</th>\n",
       "      <td>2016.000000</td>\n",
       "      <td>1.750000</td>\n",
       "      <td>91.250000</td>\n",
       "      <td>0.140183</td>\n",
       "      <td>1.375000</td>\n",
       "      <td>0.700000</td>\n",
       "    </tr>\n",
       "    <tr>\n",
       "      <th>50%</th>\n",
       "      <td>2018.000000</td>\n",
       "      <td>2.500000</td>\n",
       "      <td>102.500000</td>\n",
       "      <td>0.248131</td>\n",
       "      <td>1.850000</td>\n",
       "      <td>0.900000</td>\n",
       "    </tr>\n",
       "    <tr>\n",
       "      <th>75%</th>\n",
       "      <td>2020.000000</td>\n",
       "      <td>3.250000</td>\n",
       "      <td>114.000000</td>\n",
       "      <td>0.302017</td>\n",
       "      <td>2.200000</td>\n",
       "      <td>1.025000</td>\n",
       "    </tr>\n",
       "    <tr>\n",
       "      <th>max</th>\n",
       "      <td>2022.000000</td>\n",
       "      <td>4.000000</td>\n",
       "      <td>1100.000000</td>\n",
       "      <td>4.000000</td>\n",
       "      <td>2.800000</td>\n",
       "      <td>1.900000</td>\n",
       "    </tr>\n",
       "  </tbody>\n",
       "</table>\n",
       "</div>"
      ],
      "text/plain": [
       "              Year    Quarter        Sales  SalesPromo    AdSpend   RelPrice\n",
       "count    36.000000  36.000000    36.000000   36.000000  36.000000  36.000000\n",
       "mean   2018.000000   2.500000   129.472222    0.399153   1.758333   0.866667\n",
       "std       2.618615   1.133893   166.745741    0.783047   0.651756   0.322490\n",
       "min    2014.000000   1.000000    84.000000    0.002090   0.000000   0.100000\n",
       "25%    2016.000000   1.750000    91.250000    0.140183   1.375000   0.700000\n",
       "50%    2018.000000   2.500000   102.500000    0.248131   1.850000   0.900000\n",
       "75%    2020.000000   3.250000   114.000000    0.302017   2.200000   1.025000\n",
       "max    2022.000000   4.000000  1100.000000    4.000000   2.800000   1.900000"
      ]
     },
     "execution_count": 31,
     "metadata": {},
     "output_type": "execute_result"
    }
   ],
   "source": [
    "df.describe()"
   ]
  },
  {
   "cell_type": "code",
   "execution_count": 32,
   "id": "ea087775",
   "metadata": {},
   "outputs": [],
   "source": [
    "import matplotlib.pyplot as plt"
   ]
  },
  {
   "cell_type": "code",
   "execution_count": 33,
   "id": "8ee7e16e",
   "metadata": {},
   "outputs": [
    {
     "data": {
      "text/plain": [
       "<matplotlib.collections.PathCollection at 0x7fe4acd03d90>"
      ]
     },
     "execution_count": 33,
     "metadata": {},
     "output_type": "execute_result"
    },
    {
     "data": {
      "image/png": "[encoded data removed]",
      "text/plain": [
       "<Figure size 640x480 with 1 Axes>"
      ]
     },
     "metadata": {},
     "output_type": "display_data"
    }
   ],
   "source": [
    "plt.scatter(df.index, df['Sales'])"
   ]
  },
  {
   "cell_type": "code",
   "execution_count": 34,
   "id": "c293ad7e",
   "metadata": {},
   "outputs": [],
   "source": [
    "q = df[\"Sales\"].quantile(0.99)\n",
    "df_noout = df[df[\"Sales\"] < q]"
   ]
  },
  {
   "cell_type": "code",
   "execution_count": 35,
   "id": "65e141ff",
   "metadata": {},
   "outputs": [
    {
     "data": {
      "text/plain": [
       "(35, 6)"
      ]
     },
     "execution_count": 35,
     "metadata": {},
     "output_type": "execute_result"
    }
   ],
   "source": [
    "df_noout.shape"
   ]
  },
  {
   "cell_type": "code",
   "execution_count": 36,
   "id": "1d3551c7",
   "metadata": {},
   "outputs": [
    {
     "data": {
      "text/plain": [
       "count     35.000000\n",
       "mean     101.742857\n",
       "std       11.257267\n",
       "min       84.000000\n",
       "25%       90.500000\n",
       "50%      102.000000\n",
       "75%      113.500000\n",
       "max      116.000000\n",
       "Name: Sales, dtype: float64"
      ]
     },
     "execution_count": 36,
     "metadata": {},
     "output_type": "execute_result"
    }
   ],
   "source": [
    "df_noout['Sales'].describe()"
   ]
  },
  {
   "cell_type": "code",
   "execution_count": 37,
   "id": "e03175c7",
   "metadata": {},
   "outputs": [
    {
     "data": {
      "text/plain": [
       "Index(['Year', 'Quarter', 'Sales', 'SalesPromo', 'AdSpend', 'RelPrice'], dtype='object')"
      ]
     },
     "execution_count": 37,
     "metadata": {},
     "output_type": "execute_result"
    }
   ],
   "source": [
    "df_noout.columns"
   ]
  },
  {
   "cell_type": "code",
   "execution_count": 38,
   "id": "122d54b1",
   "metadata": {},
   "outputs": [],
   "source": [
    "import statsmodels.api as sm"
   ]
  },
  {
   "cell_type": "code",
   "execution_count": 39,
   "id": "9366f6e2",
   "metadata": {},
   "outputs": [
    {
     "data": {
      "text/html": [
       "<table class=\"simpletable\">\n",
       "<caption>OLS Regression Results</caption>\n",
       "<tr>\n",
       "  <th>Dep. Variable:</th>          <td>Sales</td>      <th>  R-squared:         </th> <td>   0.883</td>\n",
       "</tr>\n",
       "<tr>\n",
       "  <th>Model:</th>                   <td>OLS</td>       <th>  Adj. R-squared:    </th> <td>   0.863</td>\n",
       "</tr>\n",
       "<tr>\n",
       "  <th>Method:</th>             <td>Least Squares</td>  <th>  F-statistic:       </th> <td>   43.91</td>\n",
       "</tr>\n",
       "<tr>\n",
       "  <th>Date:</th>             <td>Sat, 17 Jun 2023</td> <th>  Prob (F-statistic):</th> <td>1.17e-12</td>\n",
       "</tr>\n",
       "<tr>\n",
       "  <th>Time:</th>                 <td>07:33:35</td>     <th>  Log-Likelihood:    </th> <td> -96.294</td>\n",
       "</tr>\n",
       "<tr>\n",
       "  <th>No. Observations:</th>      <td>    35</td>      <th>  AIC:               </th> <td>   204.6</td>\n",
       "</tr>\n",
       "<tr>\n",
       "  <th>Df Residuals:</th>          <td>    29</td>      <th>  BIC:               </th> <td>   213.9</td>\n",
       "</tr>\n",
       "<tr>\n",
       "  <th>Df Model:</th>              <td>     5</td>      <th>                     </th>     <td> </td>   \n",
       "</tr>\n",
       "<tr>\n",
       "  <th>Covariance Type:</th>      <td>nonrobust</td>    <th>                     </th>     <td> </td>   \n",
       "</tr>\n",
       "</table>\n",
       "<table class=\"simpletable\">\n",
       "<tr>\n",
       "       <td></td>         <th>coef</th>     <th>std err</th>      <th>t</th>      <th>P>|t|</th>  <th>[0.025</th>    <th>0.975]</th>  \n",
       "</tr>\n",
       "<tr>\n",
       "  <th>const</th>      <td>  128.7924</td> <td>  565.488</td> <td>    0.228</td> <td> 0.821</td> <td>-1027.760</td> <td> 1285.345</td>\n",
       "</tr>\n",
       "<tr>\n",
       "  <th>Year</th>       <td>   -0.0297</td> <td>    0.280</td> <td>   -0.106</td> <td> 0.916</td> <td>   -0.603</td> <td>    0.544</td>\n",
       "</tr>\n",
       "<tr>\n",
       "  <th>Quarter</th>    <td>   -1.0295</td> <td>    0.667</td> <td>   -1.542</td> <td> 0.134</td> <td>   -2.395</td> <td>    0.336</td>\n",
       "</tr>\n",
       "<tr>\n",
       "  <th>SalesPromo</th> <td>    4.4407</td> <td>    1.105</td> <td>    4.018</td> <td> 0.000</td> <td>    2.180</td> <td>    6.701</td>\n",
       "</tr>\n",
       "<tr>\n",
       "  <th>AdSpend</th>    <td>   14.1793</td> <td>    1.269</td> <td>   11.171</td> <td> 0.000</td> <td>   11.583</td> <td>   16.775</td>\n",
       "</tr>\n",
       "<tr>\n",
       "  <th>RelPrice</th>   <td>   10.2420</td> <td>    2.628</td> <td>    3.898</td> <td> 0.001</td> <td>    4.868</td> <td>   15.616</td>\n",
       "</tr>\n",
       "</table>\n",
       "<table class=\"simpletable\">\n",
       "<tr>\n",
       "  <th>Omnibus:</th>       <td> 7.912</td> <th>  Durbin-Watson:     </th> <td>   2.052</td>\n",
       "</tr>\n",
       "<tr>\n",
       "  <th>Prob(Omnibus):</th> <td> 0.019</td> <th>  Jarque-Bera (JB):  </th> <td>   6.608</td>\n",
       "</tr>\n",
       "<tr>\n",
       "  <th>Skew:</th>          <td> 1.011</td> <th>  Prob(JB):          </th> <td>  0.0367</td>\n",
       "</tr>\n",
       "<tr>\n",
       "  <th>Kurtosis:</th>      <td> 3.668</td> <th>  Cond. No.          </th> <td>1.62e+06</td>\n",
       "</tr>\n",
       "</table><br/><br/>Notes:<br/>[1] Standard Errors assume that the covariance matrix of the errors is correctly specified.<br/>[2] The condition number is large, 1.62e+06. This might indicate that there are<br/>strong multicollinearity or other numerical problems."
      ],
      "text/plain": [
       "<class 'statsmodels.iolib.summary.Summary'>\n",
       "\"\"\"\n",
       "                            OLS Regression Results                            \n",
       "==============================================================================\n",
       "Dep. Variable:                  Sales   R-squared:                       0.883\n",
       "Model:                            OLS   Adj. R-squared:                  0.863\n",
       "Method:                 Least Squares   F-statistic:                     43.91\n",
       "Date:                Sat, 17 Jun 2023   Prob (F-statistic):           1.17e-12\n",
       "Time:                        07:33:35   Log-Likelihood:                -96.294\n",
       "No. Observations:                  35   AIC:                             204.6\n",
       "Df Residuals:                      29   BIC:                             213.9\n",
       "Df Model:                           5                                         \n",
       "Covariance Type:            nonrobust                                         \n",
       "==============================================================================\n",
       "                 coef    std err          t      P>|t|      [0.025      0.975]\n",
       "------------------------------------------------------------------------------\n",
       "const        128.7924    565.488      0.228      0.821   -1027.760    1285.345\n",
       "Year          -0.0297      0.280     -0.106      0.916      -0.603       0.544\n",
       "Quarter       -1.0295      0.667     -1.542      0.134      -2.395       0.336\n",
       "SalesPromo     4.4407      1.105      4.018      0.000       2.180       6.701\n",
       "AdSpend       14.1793      1.269     11.171      0.000      11.583      16.775\n",
       "RelPrice      10.2420      2.628      3.898      0.001       4.868      15.616\n",
       "==============================================================================\n",
       "Omnibus:                        7.912   Durbin-Watson:                   2.052\n",
       "Prob(Omnibus):                  0.019   Jarque-Bera (JB):                6.608\n",
       "Skew:                           1.011   Prob(JB):                       0.0367\n",
       "Kurtosis:                       3.668   Cond. No.                     1.62e+06\n",
       "==============================================================================\n",
       "\n",
       "Notes:\n",
       "[1] Standard Errors assume that the covariance matrix of the errors is correctly specified.\n",
       "[2] The condition number is large, 1.62e+06. This might indicate that there are\n",
       "strong multicollinearity or other numerical problems.\n",
       "\"\"\""
      ]
     },
     "execution_count": 39,
     "metadata": {},
     "output_type": "execute_result"
    }
   ],
   "source": [
    "X = df_noout[['Year', 'Quarter',  'SalesPromo', 'AdSpend', 'RelPrice']]\n",
    "X = sm.add_constant(X)\n",
    "Y = df_noout.Sales\n",
    "linearRegression = sm.OLS(Y, X).fit()\n",
    "linearRegression.summary()"
   ]
  },
  {
   "cell_type": "code",
   "execution_count": 40,
   "id": "3a4935b2",
   "metadata": {},
   "outputs": [
    {
     "name": "stderr",
     "output_type": "stream",
     "text": [
      "/var/folders/lf/hsp4mkf14lv1k1qxwbvz70y00000gn/T/ipykernel_10798/1912784820.py:14: FutureWarning: The pandas.np module is deprecated and will be removed from pandas in a future version. Import numpy directly instead.\n",
      "  ax.scatter(x=pd.np.arange(coef_df.shape[0]),\n"
     ]
    },
    {
     "data": {
      "image/png": "[encoded data removed]",
      "text/plain": [
       "<Figure size 800x500 with 1 Axes>"
      ]
     },
     "metadata": {},
     "output_type": "display_data"
    }
   ],
   "source": [
    "def coef_plot2(olsmodel):\n",
    "    \n",
    "    err_series = olsmodel.params - olsmodel.conf_int()[0]\n",
    "    coef_df = pd.DataFrame({'coef': olsmodel.params.values[1:],\n",
    "                            'err': err_series.values[1:],\n",
    "                            'varname': err_series.index.values[1:]\n",
    "                           })\n",
    "    fig, ax = plt.subplots(figsize=(8, 5))\n",
    "    coef_df.plot(x='varname', y='coef', kind='bar', \n",
    "                 ax=ax, color='none', \n",
    "                 yerr='err', legend=False)\n",
    "    ax.set_ylabel('')\n",
    "    ax.set_xlabel('')\n",
    "    ax.scatter(x=pd.np.arange(coef_df.shape[0]), \n",
    "               marker='s', s=120, \n",
    "               y=coef_df['coef'], color='black')\n",
    "    ax.axhline(y=0, linestyle='--', color='black', linewidth=4)\n",
    "    ax.xaxis.set_ticks_position('none')\n",
    "    _ = ax.set_xticklabels(coef_df[\"varname\"].to_list(), \n",
    "                           rotation=0, fontsize=16)\n",
    "    plt.show()\n",
    "    \n",
    "coef_plot2(linearRegression)"
   ]
  },
  {
   "cell_type": "code",
   "execution_count": 41,
   "id": "5bb241df",
   "metadata": {},
   "outputs": [],
   "source": [
    "# Define function to output plot of the model coefficients\n",
    "\n",
    "def coefplot(results):\n",
    "    '''\n",
    "    Takes in results of OLS model and returns a plot of \n",
    "    the coefficients with 95% confidence intervals.\n",
    "    \n",
    "    Removes intercept, so if uncentered will return error.\n",
    "    '''\n",
    "    # Create dataframe of results summary \n",
    "    coef_df = pd.DataFrame(results.summary().tables[1].data)\n",
    "    \n",
    "    # Add column names\n",
    "    coef_df.columns = coef_df.iloc[0]\n",
    "\n",
    "    # Drop the extra row with column labels\n",
    "    coef_df=coef_df.drop(0)\n",
    "\n",
    "    # Set index to variable names \n",
    "    coef_df = coef_df.set_index(coef_df.columns[0])\n",
    "\n",
    "    # Change datatype from object to float\n",
    "    coef_df = coef_df.astype(float)\n",
    "\n",
    "    # Get errors; (coef - lower bound of conf interval)\n",
    "    errors = coef_df['coef'] - coef_df['[0.025']\n",
    "    \n",
    "    # Append errors column to dataframe\n",
    "    coef_df['errors'] = errors\n",
    "\n",
    "    # Drop the constant for plotting\n",
    "    coef_df = coef_df.drop(['const'])\n",
    "\n",
    "    # Sort values by coef ascending\n",
    "    coef_df = coef_df.sort_values(by=['coef'])\n",
    "\n",
    "    ### Plot Coefficients ###\n",
    "\n",
    "    # x-labels\n",
    "    variables = list(coef_df.index.values)\n",
    "    \n",
    "    # Add variables column to dataframe\n",
    "    coef_df['variables'] = variables\n",
    "    \n",
    "    # Set sns plot style back to 'poster'\n",
    "    # This will make bars wide on plot\n",
    "    sns.set_context(\"poster\")\n",
    "\n",
    "    # Define figure, axes, and plot\n",
    "    fig, ax = plt.subplots(figsize=(10, 6))\n",
    "    \n",
    "    # Error bars for 95% confidence interval\n",
    "    # Can increase capsize to add whiskers\n",
    "    coef_df.plot(x='variables', y='coef', kind='bar',\n",
    "                 ax=ax, color='none', fontsize=22, \n",
    "                 ecolor='steelblue',capsize=0,\n",
    "                 yerr='errors', legend=False)\n",
    "    \n",
    "    # Set title & labels\n",
    "    plt.title('Coefficients of Features w/ 95% Confidence Intervals',fontsize=30)\n",
    "    ax.set_ylabel('Coefficients',fontsize=22)\n",
    "    ax.set_xlabel('',fontsize=22)\n",
    "    \n",
    "    # Coefficients\n",
    "    ax.scatter(x=pd.np.arange(coef_df.shape[0]), \n",
    "               marker='o', s=80, \n",
    "               y=coef_df['coef'], color='steelblue')\n",
    "    \n",
    "    # Line to define zero on the y-axis\n",
    "    ax.axhline(y=0, linestyle='--', color='red', linewidth=1)\n",
    "    \n",
    "    return plt.show()"
   ]
  },
  {
   "cell_type": "code",
   "execution_count": 42,
   "id": "7cce964a",
   "metadata": {},
   "outputs": [
    {
     "name": "stderr",
     "output_type": "stream",
     "text": [
      "/var/folders/lf/hsp4mkf14lv1k1qxwbvz70y00000gn/T/ipykernel_10798/3712453408.py:65: FutureWarning: The pandas.np module is deprecated and will be removed from pandas in a future version. Import numpy directly instead.\n",
      "  ax.scatter(x=pd.np.arange(coef_df.shape[0]),\n"
     ]
    },
    {
     "data": {
      "image/png": "[encoded data removed]",
      "text/plain": [
       "<Figure size 1000x600 with 1 Axes>"
      ]
     },
     "metadata": {},
     "output_type": "display_data"
    }
   ],
   "source": [
    "coefplot(linearRegression)"
   ]
  },
  {
   "cell_type": "code",
   "execution_count": 47,
   "id": "7f526161",
   "metadata": {},
   "outputs": [
    {
     "data": {
      "text/html": [
       "<table class=\"simpletable\">\n",
       "<caption>OLS Regression Results</caption>\n",
       "<tr>\n",
       "  <th>Dep. Variable:</th>          <td>Sales</td>      <th>  R-squared:         </th> <td>   0.883</td>\n",
       "</tr>\n",
       "<tr>\n",
       "  <th>Model:</th>                   <td>OLS</td>       <th>  Adj. R-squared:    </th> <td>   0.868</td>\n",
       "</tr>\n",
       "<tr>\n",
       "  <th>Method:</th>             <td>Least Squares</td>  <th>  F-statistic:       </th> <td>   56.76</td>\n",
       "</tr>\n",
       "<tr>\n",
       "  <th>Date:</th>             <td>Sat, 17 Jun 2023</td> <th>  Prob (F-statistic):</th> <td>1.45e-13</td>\n",
       "</tr>\n",
       "<tr>\n",
       "  <th>Time:</th>                 <td>07:34:50</td>     <th>  Log-Likelihood:    </th> <td> -96.301</td>\n",
       "</tr>\n",
       "<tr>\n",
       "  <th>No. Observations:</th>      <td>    35</td>      <th>  AIC:               </th> <td>   202.6</td>\n",
       "</tr>\n",
       "<tr>\n",
       "  <th>Df Residuals:</th>          <td>    30</td>      <th>  BIC:               </th> <td>   210.4</td>\n",
       "</tr>\n",
       "<tr>\n",
       "  <th>Df Model:</th>              <td>     4</td>      <th>                     </th>     <td> </td>   \n",
       "</tr>\n",
       "<tr>\n",
       "  <th>Covariance Type:</th>      <td>nonrobust</td>    <th>                     </th>     <td> </td>   \n",
       "</tr>\n",
       "</table>\n",
       "<table class=\"simpletable\">\n",
       "<tr>\n",
       "       <td></td>         <th>coef</th>     <th>std err</th>      <th>t</th>      <th>P>|t|</th>  <th>[0.025</th>    <th>0.975]</th>  \n",
       "</tr>\n",
       "<tr>\n",
       "  <th>const</th>      <td>   68.8362</td> <td>    3.457</td> <td>   19.914</td> <td> 0.000</td> <td>   61.777</td> <td>   75.896</td>\n",
       "</tr>\n",
       "<tr>\n",
       "  <th>Quarter</th>    <td>   -1.0332</td> <td>    0.656</td> <td>   -1.576</td> <td> 0.125</td> <td>   -2.372</td> <td>    0.306</td>\n",
       "</tr>\n",
       "<tr>\n",
       "  <th>SalesPromo</th> <td>    4.4381</td> <td>    1.087</td> <td>    4.085</td> <td> 0.000</td> <td>    2.219</td> <td>    6.657</td>\n",
       "</tr>\n",
       "<tr>\n",
       "  <th>AdSpend</th>    <td>   14.1716</td> <td>    1.246</td> <td>   11.372</td> <td> 0.000</td> <td>   11.627</td> <td>   16.717</td>\n",
       "</tr>\n",
       "<tr>\n",
       "  <th>RelPrice</th>   <td>   10.2223</td> <td>    2.577</td> <td>    3.966</td> <td> 0.000</td> <td>    4.959</td> <td>   15.486</td>\n",
       "</tr>\n",
       "</table>\n",
       "<table class=\"simpletable\">\n",
       "<tr>\n",
       "  <th>Omnibus:</th>       <td> 8.295</td> <th>  Durbin-Watson:     </th> <td>   2.052</td>\n",
       "</tr>\n",
       "<tr>\n",
       "  <th>Prob(Omnibus):</th> <td> 0.016</td> <th>  Jarque-Bera (JB):  </th> <td>   7.003</td>\n",
       "</tr>\n",
       "<tr>\n",
       "  <th>Skew:</th>          <td> 1.034</td> <th>  Prob(JB):          </th> <td>  0.0302</td>\n",
       "</tr>\n",
       "<tr>\n",
       "  <th>Kurtosis:</th>      <td> 3.725</td> <th>  Cond. No.          </th> <td>    19.4</td>\n",
       "</tr>\n",
       "</table><br/><br/>Notes:<br/>[1] Standard Errors assume that the covariance matrix of the errors is correctly specified."
      ],
      "text/plain": [
       "<class 'statsmodels.iolib.summary.Summary'>\n",
       "\"\"\"\n",
       "                            OLS Regression Results                            \n",
       "==============================================================================\n",
       "Dep. Variable:                  Sales   R-squared:                       0.883\n",
       "Model:                            OLS   Adj. R-squared:                  0.868\n",
       "Method:                 Least Squares   F-statistic:                     56.76\n",
       "Date:                Sat, 17 Jun 2023   Prob (F-statistic):           1.45e-13\n",
       "Time:                        07:34:50   Log-Likelihood:                -96.301\n",
       "No. Observations:                  35   AIC:                             202.6\n",
       "Df Residuals:                      30   BIC:                             210.4\n",
       "Df Model:                           4                                         \n",
       "Covariance Type:            nonrobust                                         \n",
       "==============================================================================\n",
       "                 coef    std err          t      P>|t|      [0.025      0.975]\n",
       "------------------------------------------------------------------------------\n",
       "const         68.8362      3.457     19.914      0.000      61.777      75.896\n",
       "Quarter       -1.0332      0.656     -1.576      0.125      -2.372       0.306\n",
       "SalesPromo     4.4381      1.087      4.085      0.000       2.219       6.657\n",
       "AdSpend       14.1716      1.246     11.372      0.000      11.627      16.717\n",
       "RelPrice      10.2223      2.577      3.966      0.000       4.959      15.486\n",
       "==============================================================================\n",
       "Omnibus:                        8.295   Durbin-Watson:                   2.052\n",
       "Prob(Omnibus):                  0.016   Jarque-Bera (JB):                7.003\n",
       "Skew:                           1.034   Prob(JB):                       0.0302\n",
       "Kurtosis:                       3.725   Cond. No.                         19.4\n",
       "==============================================================================\n",
       "\n",
       "Notes:\n",
       "[1] Standard Errors assume that the covariance matrix of the errors is correctly specified.\n",
       "\"\"\""
      ]
     },
     "execution_count": 47,
     "metadata": {},
     "output_type": "execute_result"
    }
   ],
   "source": [
    "X = df_noout[[ 'Quarter',  'SalesPromo', 'AdSpend', 'RelPrice']]\n",
    "X = sm.add_constant(X)\n",
    "Y = df_noout.Sales\n",
    "linearRegression = sm.OLS(Y, X).fit()\n",
    "linearRegression.summary()"
   ]
  },
  {
   "cell_type": "code",
   "execution_count": 49,
   "id": "f5354dda",
   "metadata": {},
   "outputs": [
    {
     "name": "stderr",
     "output_type": "stream",
     "text": [
      "/var/folders/lf/hsp4mkf14lv1k1qxwbvz70y00000gn/T/ipykernel_10798/3712453408.py:65: FutureWarning: The pandas.np module is deprecated and will be removed from pandas in a future version. Import numpy directly instead.\n",
      "  ax.scatter(x=pd.np.arange(coef_df.shape[0]),\n"
     ]
    },
    {
     "data": {
      "image/png": "[encoded data removed]",
      "text/plain": [
       "<Figure size 1000x600 with 1 Axes>"
      ]
     },
     "metadata": {},
     "output_type": "display_data"
    }
   ],
   "source": [
    "coefplot(linearRegression)"
   ]
  },
  {
   "cell_type": "code",
   "execution_count": 60,
   "id": "0c6cb061",
   "metadata": {},
   "outputs": [
    {
     "name": "stdout",
     "output_type": "stream",
     "text": [
      "The model performance for testing set\n",
      "--------------------------------------\n",
      "RMSE is 3.79\n",
      "Mean absolute err is 2.94\n",
      "R2 score is 0.88\n"
     ]
    }
   ],
   "source": [
    "import numpy as np\n",
    "import numpy as np\n",
    "from sklearn.metrics import mean_squared_error\n",
    "from sklearn.metrics import r2_score\n",
    "from sklearn.metrics import mean_absolute_error\n",
    "y_test_predict = linearRegression.predict(X)\n",
    "rmse = (np.sqrt(mean_squared_error(Y , y_test_predict)))\n",
    "mae = mean_absolute_error(Y, y_test_predict)\n",
    "r2 = r2_score(Y, y_test_predict)\n",
    "\n",
    "print(\"The model performance for testing set\")\n",
    "print(\"--------------------------------------\")\n",
    "print('RMSE is {:.2f}'.format(rmse))\n",
    "print('Mean absolute err is {:.2f}'.format(mae))\n",
    "print('R2 score is {:.2f}'.format(r2))"
   ]
  },
  {
   "cell_type": "code",
   "execution_count": 101,
   "id": "9ace9506",
   "metadata": {},
   "outputs": [
    {
     "data": {
      "text/plain": [
       "pandas.core.frame.DataFrame"
      ]
     },
     "execution_count": 101,
     "metadata": {},
     "output_type": "execute_result"
    }
   ],
   "source": [
    "type(X)"
   ]
  },
  {
   "cell_type": "code",
   "execution_count": 104,
   "id": "3e689a03",
   "metadata": {},
   "outputs": [
    {
     "data": {
      "text/plain": [
       "2.8"
      ]
     },
     "execution_count": 104,
     "metadata": {},
     "output_type": "execute_result"
    }
   ],
   "source": [
    "max(X[\"AdSpend\"].values)"
   ]
  },
  {
   "cell_type": "code",
   "execution_count": 105,
   "id": "b40fb897",
   "metadata": {},
   "outputs": [
    {
     "data": {
      "text/html": [
       "<div>\n",
       "<style scoped>\n",
       "    .dataframe tbody tr th:only-of-type {\n",
       "        vertical-align: middle;\n",
       "    }\n",
       "\n",
       "    .dataframe tbody tr th {\n",
       "        vertical-align: top;\n",
       "    }\n",
       "\n",
       "    .dataframe thead th {\n",
       "        text-align: right;\n",
       "    }\n",
       "</style>\n",
       "<table border=\"1\" class=\"dataframe\">\n",
       "  <thead>\n",
       "    <tr style=\"text-align: right;\">\n",
       "      <th></th>\n",
       "      <th>const</th>\n",
       "      <th>Quarter</th>\n",
       "      <th>SalesPromo</th>\n",
       "      <th>AdSpend</th>\n",
       "      <th>RelPrice</th>\n",
       "    </tr>\n",
       "  </thead>\n",
       "  <tbody>\n",
       "    <tr>\n",
       "      <th>0</th>\n",
       "      <td>1.0</td>\n",
       "      <td>1</td>\n",
       "      <td>0.602118</td>\n",
       "      <td>0.0</td>\n",
       "      <td>1.1</td>\n",
       "    </tr>\n",
       "    <tr>\n",
       "      <th>1</th>\n",
       "      <td>1.0</td>\n",
       "      <td>2</td>\n",
       "      <td>0.208932</td>\n",
       "      <td>1.8</td>\n",
       "      <td>0.9</td>\n",
       "    </tr>\n",
       "    <tr>\n",
       "      <th>2</th>\n",
       "      <td>1.0</td>\n",
       "      <td>3</td>\n",
       "      <td>0.060245</td>\n",
       "      <td>2.8</td>\n",
       "      <td>0.1</td>\n",
       "    </tr>\n",
       "    <tr>\n",
       "      <th>3</th>\n",
       "      <td>1.0</td>\n",
       "      <td>4</td>\n",
       "      <td>0.002090</td>\n",
       "      <td>1.3</td>\n",
       "      <td>0.5</td>\n",
       "    </tr>\n",
       "    <tr>\n",
       "      <th>4</th>\n",
       "      <td>1.0</td>\n",
       "      <td>1</td>\n",
       "      <td>0.045102</td>\n",
       "      <td>1.4</td>\n",
       "      <td>0.6</td>\n",
       "    </tr>\n",
       "    <tr>\n",
       "      <th>5</th>\n",
       "      <td>1.0</td>\n",
       "      <td>2</td>\n",
       "      <td>0.316000</td>\n",
       "      <td>1.7</td>\n",
       "      <td>0.8</td>\n",
       "    </tr>\n",
       "    <tr>\n",
       "      <th>6</th>\n",
       "      <td>1.0</td>\n",
       "      <td>3</td>\n",
       "      <td>0.249390</td>\n",
       "      <td>2.7</td>\n",
       "      <td>1.0</td>\n",
       "    </tr>\n",
       "    <tr>\n",
       "      <th>7</th>\n",
       "      <td>1.0</td>\n",
       "      <td>4</td>\n",
       "      <td>0.225837</td>\n",
       "      <td>1.2</td>\n",
       "      <td>0.5</td>\n",
       "    </tr>\n",
       "    <tr>\n",
       "      <th>8</th>\n",
       "      <td>1.0</td>\n",
       "      <td>1</td>\n",
       "      <td>0.313921</td>\n",
       "      <td>1.5</td>\n",
       "      <td>0.7</td>\n",
       "    </tr>\n",
       "    <tr>\n",
       "      <th>9</th>\n",
       "      <td>1.0</td>\n",
       "      <td>2</td>\n",
       "      <td>0.265321</td>\n",
       "      <td>2.4</td>\n",
       "      <td>0.9</td>\n",
       "    </tr>\n",
       "    <tr>\n",
       "      <th>10</th>\n",
       "      <td>1.0</td>\n",
       "      <td>3</td>\n",
       "      <td>0.264143</td>\n",
       "      <td>2.4</td>\n",
       "      <td>1.2</td>\n",
       "    </tr>\n",
       "    <tr>\n",
       "      <th>11</th>\n",
       "      <td>1.0</td>\n",
       "      <td>4</td>\n",
       "      <td>0.039061</td>\n",
       "      <td>1.1</td>\n",
       "      <td>0.7</td>\n",
       "    </tr>\n",
       "    <tr>\n",
       "      <th>12</th>\n",
       "      <td>1.0</td>\n",
       "      <td>1</td>\n",
       "      <td>0.256672</td>\n",
       "      <td>2.0</td>\n",
       "      <td>1.0</td>\n",
       "    </tr>\n",
       "    <tr>\n",
       "      <th>13</th>\n",
       "      <td>1.0</td>\n",
       "      <td>2</td>\n",
       "      <td>0.298049</td>\n",
       "      <td>2.1</td>\n",
       "      <td>1.0</td>\n",
       "    </tr>\n",
       "    <tr>\n",
       "      <th>14</th>\n",
       "      <td>1.0</td>\n",
       "      <td>3</td>\n",
       "      <td>4.000000</td>\n",
       "      <td>1.1</td>\n",
       "      <td>1.9</td>\n",
       "    </tr>\n",
       "    <tr>\n",
       "      <th>15</th>\n",
       "      <td>1.0</td>\n",
       "      <td>4</td>\n",
       "      <td>0.095837</td>\n",
       "      <td>1.8</td>\n",
       "      <td>0.7</td>\n",
       "    </tr>\n",
       "    <tr>\n",
       "      <th>16</th>\n",
       "      <td>1.0</td>\n",
       "      <td>1</td>\n",
       "      <td>0.275328</td>\n",
       "      <td>2.2</td>\n",
       "      <td>0.9</td>\n",
       "    </tr>\n",
       "    <tr>\n",
       "      <th>17</th>\n",
       "      <td>1.0</td>\n",
       "      <td>2</td>\n",
       "      <td>0.244252</td>\n",
       "      <td>1.9</td>\n",
       "      <td>1.2</td>\n",
       "    </tr>\n",
       "    <tr>\n",
       "      <th>18</th>\n",
       "      <td>1.0</td>\n",
       "      <td>3</td>\n",
       "      <td>0.247816</td>\n",
       "      <td>2.6</td>\n",
       "      <td>1.0</td>\n",
       "    </tr>\n",
       "    <tr>\n",
       "      <th>19</th>\n",
       "      <td>1.0</td>\n",
       "      <td>4</td>\n",
       "      <td>0.017427</td>\n",
       "      <td>1.3</td>\n",
       "      <td>0.6</td>\n",
       "    </tr>\n",
       "    <tr>\n",
       "      <th>20</th>\n",
       "      <td>1.0</td>\n",
       "      <td>1</td>\n",
       "      <td>0.434748</td>\n",
       "      <td>1.7</td>\n",
       "      <td>1.2</td>\n",
       "    </tr>\n",
       "    <tr>\n",
       "      <th>21</th>\n",
       "      <td>1.0</td>\n",
       "      <td>2</td>\n",
       "      <td>0.246746</td>\n",
       "      <td>1.9</td>\n",
       "      <td>0.9</td>\n",
       "    </tr>\n",
       "    <tr>\n",
       "      <th>22</th>\n",
       "      <td>1.0</td>\n",
       "      <td>3</td>\n",
       "      <td>0.364213</td>\n",
       "      <td>2.3</td>\n",
       "      <td>1.3</td>\n",
       "    </tr>\n",
       "    <tr>\n",
       "      <th>23</th>\n",
       "      <td>1.0</td>\n",
       "      <td>4</td>\n",
       "      <td>0.029596</td>\n",
       "      <td>1.1</td>\n",
       "      <td>0.7</td>\n",
       "    </tr>\n",
       "    <tr>\n",
       "      <th>24</th>\n",
       "      <td>1.0</td>\n",
       "      <td>1</td>\n",
       "      <td>0.248445</td>\n",
       "      <td>2.0</td>\n",
       "      <td>0.9</td>\n",
       "    </tr>\n",
       "    <tr>\n",
       "      <th>25</th>\n",
       "      <td>1.0</td>\n",
       "      <td>2</td>\n",
       "      <td>0.289663</td>\n",
       "      <td>2.2</td>\n",
       "      <td>1.1</td>\n",
       "    </tr>\n",
       "    <tr>\n",
       "      <th>26</th>\n",
       "      <td>1.0</td>\n",
       "      <td>3</td>\n",
       "      <td>0.154965</td>\n",
       "      <td>2.0</td>\n",
       "      <td>1.1</td>\n",
       "    </tr>\n",
       "    <tr>\n",
       "      <th>27</th>\n",
       "      <td>1.0</td>\n",
       "      <td>4</td>\n",
       "      <td>3.000000</td>\n",
       "      <td>0.1</td>\n",
       "      <td>0.2</td>\n",
       "    </tr>\n",
       "    <tr>\n",
       "      <th>28</th>\n",
       "      <td>1.0</td>\n",
       "      <td>1</td>\n",
       "      <td>0.332216</td>\n",
       "      <td>2.1</td>\n",
       "      <td>1.1</td>\n",
       "    </tr>\n",
       "    <tr>\n",
       "      <th>29</th>\n",
       "      <td>1.0</td>\n",
       "      <td>2</td>\n",
       "      <td>0.323039</td>\n",
       "      <td>1.5</td>\n",
       "      <td>0.8</td>\n",
       "    </tr>\n",
       "    <tr>\n",
       "      <th>30</th>\n",
       "      <td>1.0</td>\n",
       "      <td>3</td>\n",
       "      <td>0.168850</td>\n",
       "      <td>2.7</td>\n",
       "      <td>0.8</td>\n",
       "    </tr>\n",
       "    <tr>\n",
       "      <th>31</th>\n",
       "      <td>1.0</td>\n",
       "      <td>4</td>\n",
       "      <td>0.028878</td>\n",
       "      <td>1.4</td>\n",
       "      <td>0.6</td>\n",
       "    </tr>\n",
       "    <tr>\n",
       "      <th>32</th>\n",
       "      <td>1.0</td>\n",
       "      <td>1</td>\n",
       "      <td>0.276430</td>\n",
       "      <td>1.5</td>\n",
       "      <td>0.6</td>\n",
       "    </tr>\n",
       "    <tr>\n",
       "      <th>34</th>\n",
       "      <td>1.0</td>\n",
       "      <td>3</td>\n",
       "      <td>0.214438</td>\n",
       "      <td>2.5</td>\n",
       "      <td>1.0</td>\n",
       "    </tr>\n",
       "    <tr>\n",
       "      <th>35</th>\n",
       "      <td>1.0</td>\n",
       "      <td>4</td>\n",
       "      <td>0.004999</td>\n",
       "      <td>1.1</td>\n",
       "      <td>0.7</td>\n",
       "    </tr>\n",
       "  </tbody>\n",
       "</table>\n",
       "</div>"
      ],
      "text/plain": [
       "    const  Quarter  SalesPromo  AdSpend  RelPrice\n",
       "0     1.0        1    0.602118      0.0       1.1\n",
       "1     1.0        2    0.208932      1.8       0.9\n",
       "2     1.0        3    0.060245      2.8       0.1\n",
       "3     1.0        4    0.002090      1.3       0.5\n",
       "4     1.0        1    0.045102      1.4       0.6\n",
       "5     1.0        2    0.316000      1.7       0.8\n",
       "6     1.0        3    0.249390      2.7       1.0\n",
       "7     1.0        4    0.225837      1.2       0.5\n",
       "8     1.0        1    0.313921      1.5       0.7\n",
       "9     1.0        2    0.265321      2.4       0.9\n",
       "10    1.0        3    0.264143      2.4       1.2\n",
       "11    1.0        4    0.039061      1.1       0.7\n",
       "12    1.0        1    0.256672      2.0       1.0\n",
       "13    1.0        2    0.298049      2.1       1.0\n",
       "14    1.0        3    4.000000      1.1       1.9\n",
       "15    1.0        4    0.095837      1.8       0.7\n",
       "16    1.0        1    0.275328      2.2       0.9\n",
       "17    1.0        2    0.244252      1.9       1.2\n",
       "18    1.0        3    0.247816      2.6       1.0\n",
       "19    1.0        4    0.017427      1.3       0.6\n",
       "20    1.0        1    0.434748      1.7       1.2\n",
       "21    1.0        2    0.246746      1.9       0.9\n",
       "22    1.0        3    0.364213      2.3       1.3\n",
       "23    1.0        4    0.029596      1.1       0.7\n",
       "24    1.0        1    0.248445      2.0       0.9\n",
       "25    1.0        2    0.289663      2.2       1.1\n",
       "26    1.0        3    0.154965      2.0       1.1\n",
       "27    1.0        4    3.000000      0.1       0.2\n",
       "28    1.0        1    0.332216      2.1       1.1\n",
       "29    1.0        2    0.323039      1.5       0.8\n",
       "30    1.0        3    0.168850      2.7       0.8\n",
       "31    1.0        4    0.028878      1.4       0.6\n",
       "32    1.0        1    0.276430      1.5       0.6\n",
       "34    1.0        3    0.214438      2.5       1.0\n",
       "35    1.0        4    0.004999      1.1       0.7"
      ]
     },
     "execution_count": 105,
     "metadata": {},
     "output_type": "execute_result"
    }
   ],
   "source": [
    "X"
   ]
  },
  {
   "cell_type": "code",
   "execution_count": 106,
   "id": "2d9b3fdd",
   "metadata": {},
   "outputs": [
    {
     "data": {
      "text/plain": [
       "4.0"
      ]
     },
     "execution_count": 106,
     "metadata": {},
     "output_type": "execute_result"
    }
   ],
   "source": [
    "max(X[\"SalesPromo\"].values)"
   ]
  },
  {
   "cell_type": "code",
   "execution_count": 109,
   "id": "a000c824",
   "metadata": {},
   "outputs": [
    {
     "data": {
      "text/plain": [
       "0.8657142857142858"
      ]
     },
     "execution_count": 109,
     "metadata": {},
     "output_type": "execute_result"
    }
   ],
   "source": [
    "np.mean(X[\"RelPrice\"].values)"
   ]
  },
  {
   "cell_type": "code",
   "execution_count": 63,
   "id": "eba18fb1",
   "metadata": {},
   "outputs": [
    {
     "data": {
      "text/plain": [
       "102.34407999999999"
      ]
     },
     "execution_count": 63,
     "metadata": {},
     "output_type": "execute_result"
    }
   ],
   "source": [
    "\n",
    "\n",
    "68.8*1.0 -1.03*2 + 4.4*0.208 +1.8*14.1716 + 10.2*0.9"
   ]
  },
  {
   "cell_type": "code",
   "execution_count": 72,
   "id": "002f7234",
   "metadata": {},
   "outputs": [],
   "source": [
    "coef = [68.8, -1.03,  4.4, 14.176,10.2]\n",
    "values = [1.0, 2, 0.208932, 1.8, 0.9]"
   ]
  },
  {
   "cell_type": "code",
   "execution_count": 73,
   "id": "db41d31d",
   "metadata": {},
   "outputs": [],
   "source": []
  },
  {
   "cell_type": "code",
   "execution_count": 75,
   "id": "142c93da",
   "metadata": {},
   "outputs": [],
   "source": [
    "def model_simulate(coef,values):\n",
    "    pred_sales = 0\n",
    "    for x1, x2 in zip(coef, values):\n",
    "\n",
    "        pred_sales = pred_sales+x1*x2\n",
    "    print(pred_sales)   \n",
    "    return pred_sales"
   ]
  },
  {
   "cell_type": "code",
   "execution_count": 76,
   "id": "96fd4493",
   "metadata": {},
   "outputs": [],
   "source": [
    "values = [1.0,4, 0.004999, 1.1, 0.7]"
   ]
  },
  {
   "cell_type": "code",
   "execution_count": 77,
   "id": "4e61181d",
   "metadata": {},
   "outputs": [
    {
     "name": "stdout",
     "output_type": "stream",
     "text": [
      "87.43559559999998\n"
     ]
    },
    {
     "data": {
      "text/plain": [
       "87.43559559999998"
      ]
     },
     "execution_count": 77,
     "metadata": {},
     "output_type": "execute_result"
    }
   ],
   "source": [
    "model_simulate(coef,values)"
   ]
  },
  {
   "cell_type": "code",
   "execution_count": 78,
   "id": "75d27799",
   "metadata": {},
   "outputs": [
    {
     "data": {
      "text/plain": [
       "0      92\n",
       "1      99\n",
       "2     115\n",
       "3      85\n",
       "4      88\n",
       "5     101\n",
       "6     114\n",
       "7      89\n",
       "8      97\n",
       "9     109\n",
       "10    116\n",
       "11     86\n",
       "12    103\n",
       "13    109\n",
       "14    115\n",
       "15     94\n",
       "16    108\n",
       "17    113\n",
       "18    114\n",
       "19     87\n",
       "20    107\n",
       "21    101\n",
       "22    114\n",
       "23     86\n",
       "24    102\n",
       "25    112\n",
       "26    115\n",
       "27     84\n",
       "28    107\n",
       "29     98\n",
       "30    115\n",
       "31     88\n",
       "32     98\n",
       "34    115\n",
       "35     85\n",
       "Name: Sales, dtype: int64"
      ]
     },
     "execution_count": 78,
     "metadata": {},
     "output_type": "execute_result"
    }
   ],
   "source": [
    "Y"
   ]
  },
  {
   "cell_type": "code",
   "execution_count": 79,
   "id": "8fe182c4",
   "metadata": {},
   "outputs": [],
   "source": [
    "# Double sales"
   ]
  },
  {
   "cell_type": "code",
   "execution_count": 91,
   "id": "531e7870",
   "metadata": {},
   "outputs": [],
   "source": [
    "\n"
   ]
  },
  {
   "cell_type": "code",
   "execution_count": 85,
   "id": "d75bb94f",
   "metadata": {},
   "outputs": [
    {
     "data": {
      "text/plain": [
       "76.83930079999999"
      ]
     },
     "execution_count": 85,
     "metadata": {},
     "output_type": "execute_result"
    }
   ],
   "source": [
    "find_value_for(coef,values)"
   ]
  },
  {
   "cell_type": "code",
   "execution_count": null,
   "id": "c2d51071",
   "metadata": {},
   "outputs": [],
   "source": []
  },
  {
   "cell_type": "code",
   "execution_count": 110,
   "id": "f0e9b0ab",
   "metadata": {},
   "outputs": [],
   "source": [
    "regress_coeff = [68.8, -1.03,  4.4, 14.176,10.2]\n",
    "coef = [68.8, -1.03,  4.4, 10.2]\n",
    "values = [1.0, 3, 4, 0.86]\n",
    "target_sales = 200\n",
    "\n",
    "def find_value_for(coef, values,target_value, missing_coef):\n",
    "    pred_sales = 0\n",
    "    for x1, x2 in zip(coef, values):\n",
    "        pred_sales = pred_sales+x1*x2\n",
    "    return (target_value - pred_sales)/missing_coef\n"
   ]
  },
  {
   "cell_type": "code",
   "execution_count": 111,
   "id": "0198d8e2",
   "metadata": {},
   "outputs": [
    {
     "data": {
      "text/plain": [
       "7.612725733634312"
      ]
     },
     "execution_count": 111,
     "metadata": {},
     "output_type": "execute_result"
    }
   ],
   "source": [
    "\n",
    "find_value_for(coef, values, target_sales,14.176)"
   ]
  },
  {
   "cell_type": "code",
   "execution_count": null,
   "id": "775fe74a",
   "metadata": {},
   "outputs": [],
   "source": []
  }
 ],
 "metadata": {
  "kernelspec": {
   "display_name": "Python 3 (ipykernel)",
   "language": "python",
   "name": "python3"
  },
  "language_info": {
   "codemirror_mode": {
    "name": "ipython",
    "version": 3
   },
   "file_extension": ".py",
   "mimetype": "text/x-python",
   "name": "python",
   "nbconvert_exporter": "python",
   "pygments_lexer": "ipython3",
   "version": "3.8.16"
  }
 },
 "nbformat": 4,
 "nbformat_minor": 5
}
